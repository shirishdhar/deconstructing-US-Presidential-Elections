{
 "cells": [
  {
   "cell_type": "markdown",
   "metadata": {},
   "source": [
    "### Import Statements and Initializing our tagger and dataframes"
   ]
  },
  {
   "cell_type": "code",
   "execution_count": 2,
   "metadata": {
    "collapsed": false
   },
   "outputs": [],
   "source": [
    "from nltk.sentiment import SentimentAnalyzer\n",
    "from nltk.sentiment.vader import SentimentIntensityAnalyzer\n",
    "import nltk\n",
    "from nltk.corpus import names\n",
    "import random\n",
    "import pandas as pd\n",
    "import numpy as np\n",
    "import matplotlib.pyplot as plt\n",
    "%matplotlib inline\n",
    "import nltk, string\n",
    "from nltk.corpus import brown, stopwords\n",
    "import sklearn\n",
    "from sklearn.metrics import accuracy_score\n",
    "from sklearn.model_selection import GridSearchCV\n",
    "from nltk.stem.snowball import SnowballStemmer\n",
    "from sklearn.feature_extraction.text import CountVectorizer\n",
    "from nltk.stem import WordNetLemmatizer\n",
    "punctuations = list(string.punctuation)\n",
    "from sklearn.cross_validation import train_test_split\n",
    "from sklearn.feature_selection import SelectKBest, chi2, f_classif\n",
    "lemmatizer = WordNetLemmatizer()\n",
    "from sklearn.linear_model import LogisticRegression\n",
    "from sklearn.linear_model import SGDClassifier\n",
    "from sklearn.naive_bayes import MultinomialNB\n",
    "from sklearn.cross_validation import cross_val_score\n",
    "from sklearn.feature_selection import SelectKBest, chi2, f_classif\n",
    "from nltk.collocations import *\n",
    "bigram_measures = nltk.collocations.BigramAssocMeasures()"
   ]
  },
  {
   "cell_type": "code",
   "execution_count": 6,
   "metadata": {
    "collapsed": true
   },
   "outputs": [],
   "source": [
    "def create_data_sets(sentences):\n",
    "    size = int(len(sentences) * 0.9)\n",
    "    train_sents = sentences[:size]\n",
    "    test_sents = sentences[size:]\n",
    "    return train_sents, test_sents\n",
    "\n",
    "def build_backoff_tagger (train_sents):\n",
    "    t0 = nltk.DefaultTagger('NN')\n",
    "    t1 = nltk.UnigramTagger(train_sents, backoff=t0)\n",
    "    t2 = nltk.BigramTagger(train_sents, backoff=t1)\n",
    "    t3 = nltk.TrigramTagger(train_sents, backoff=t2)\n",
    "    return t3\n",
    "\n",
    "\n",
    "def train_tagger(already_tagged_sents):\n",
    "    train_sents, test_sents = create_data_sets(already_tagged_sents)\n",
    "    ngram_tagger = build_backoff_tagger(train_sents)\n",
    "    print (\"%0.3f pos accuracy on test set\" % ngram_tagger.evaluate(test_sents))\n",
    "    return ngram_tagger"
   ]
  },
  {
   "cell_type": "code",
   "execution_count": 7,
   "metadata": {
    "collapsed": true
   },
   "outputs": [],
   "source": [
    "def train_tagger_on_brown():\n",
    "    modified_speech_sents = [[('common', 'JJ'), ('Hard-working', 'JJ'), ('people', 'NNS'), ('.', '.')],\n",
    "                        [(\"I'm\", 'PPSS+BEM'), ('a', 'AT'), ('Republican', 'NP'), ('.', '.')],\n",
    "                        [(\"I'm\", 'PPSS+BEM'), ('Republican', 'NP'),('.', '.')], \n",
    "                        [('the', 'AT'), ('Republican', 'NP'), ('politicians', 'NNS'), ('.', '.')],\n",
    "                        [('the', 'AT'), ('American', 'NP'), ('people', 'NNS'), ('.', '.')]]\n",
    "\n",
    "\n",
    "    brown_tagged_sents = brown.tagged_sents(categories=['adventure', 'editorial', 'fiction', 'government', 'hobbies',\n",
    "    'humor', 'learned', 'lore', 'mystery', 'religion', 'reviews', 'romance'])\n",
    "    \n",
    "    all_tagged_sents = modified_speech_sents + brown_tagged_sents\n",
    "    return train_tagger(all_tagged_sents)"
   ]
  },
  {
   "cell_type": "code",
   "execution_count": 8,
   "metadata": {
    "collapsed": true
   },
   "outputs": [],
   "source": [
    "def Trained_Speech_Tagger(sents,tagger):\n",
    "    if(isinstance(sents[0],list)):\n",
    "        return [tagger.tag(sent) for sent in sents]\n",
    "    else:\n",
    "        return tagger.tag(sents)"
   ]
  },
  {
   "cell_type": "code",
   "execution_count": 9,
   "metadata": {
    "collapsed": false
   },
   "outputs": [
    {
     "name": "stdout",
     "output_type": "stream",
     "text": [
      "0.909 pos accuracy on test set\n"
     ]
    }
   ],
   "source": [
    "brown_tagger = train_tagger_on_brown()"
   ]
  },
  {
   "cell_type": "code",
   "execution_count": 10,
   "metadata": {
    "collapsed": true
   },
   "outputs": [],
   "source": [
    "from nltk.tokenize import TweetTokenizer\n",
    "tknzr = TweetTokenizer()"
   ]
  },
  {
   "cell_type": "code",
   "execution_count": 3,
   "metadata": {
    "collapsed": true
   },
   "outputs": [],
   "source": [
    "df = pd.read_csv('tweet_training.csv')"
   ]
  },
  {
   "cell_type": "code",
   "execution_count": 4,
   "metadata": {
    "collapsed": true
   },
   "outputs": [],
   "source": [
    "dt = pd.read_csv('total_tweets.csv')"
   ]
  },
  {
   "cell_type": "markdown",
   "metadata": {},
   "source": [
    "### Finding unique hashtags in the tweets"
   ]
  },
  {
   "cell_type": "code",
   "execution_count": 5,
   "metadata": {
    "collapsed": false
   },
   "outputs": [
    {
     "data": {
      "text/plain": [
       "array(['[]', \"['#debates', '#debates']\", \"['#BasementDwellers']\", ...,\n",
       "       \"['#markets', '#election', '#trump']\",\n",
       "       \"['#Obama', '#failed', '#maga', '#trump']\", \"['#Michigan']\"], dtype=object)"
      ]
     },
     "execution_count": 5,
     "metadata": {},
     "output_type": "execute_result"
    }
   ],
   "source": [
    "hashtags = dt.hash_tags.unique()\n",
    "hashtags"
   ]
  },
  {
   "cell_type": "code",
   "execution_count": 11,
   "metadata": {
    "collapsed": true
   },
   "outputs": [],
   "source": [
    "new_hash = []\n",
    "for item in hashtags:\n",
    "    item = item.replace('[]', '')\n",
    "    item = item.replace('[', '')\n",
    "    item = item.replace(']', '')\n",
    "    item = item.replace('\\'','')\n",
    "    item = item.replace(',','')\n",
    "    item = item.lower()\n",
    "    new_item = item.split(\" \")\n",
    "    for x in new_item:\n",
    "        #print(x)\n",
    "        new_hash.append(x)"
   ]
  },
  {
   "cell_type": "code",
   "execution_count": 12,
   "metadata": {
    "collapsed": false
   },
   "outputs": [
    {
     "name": "stdout",
     "output_type": "stream",
     "text": [
      "['', '#debates', '#debates', '#basementdwellers', '#bigleaguetruth', '#trump', '#vpdebate', '#vpdebate', '#timkaine', '#imwithher', '#vpdebate', '#de', '#privateequity', '#tuesdaymotivation', '#vpdebate', '#hypocrite', '#vpdebate', '#vpdebate', '#mikepence', '#teamiphone', '#debates', '#', '#guccifer2', '#clintonfoundation', '#honduras', '#vpdebate', '#imwithher', '#trumppence16', '#americ', '#guccifer2', '#tcot', '#wakeupamerica', '#maga', '#vpdeba', '#assange', '#vpde', '#crookedhillar', '#stonetear', '#potus', '#vpdebate', '#guiltyassin', '#vpde', '#clinton', '#vpdebate', '#decision2016', '#obamacare', '#cato2016', '#debat', '#debates', '#debate2016', '#vpdebate', '#trumppence16', '#amer', '#conflictofinterest', '#maga', '#vpdebate', '#vpdebate2016', '#debates', '#vpdebate', '#clinton', '#vpdebate', '#election2016', '#vicepresidentialdebate', '#vpdebate', '#bigleaguetruth', '#vpdeb', '#vpdebate', '#election2016', '#mhmtdeb', '#vpdebate', '#guccifer20', '#kaine', '#clinton', '#vpdebate', '#truepundit', '#octobersurprise', '#', '#trumppence16', '#maga', '#trumppenc', '#debatewithffl', '#vpdebate', '#clinton', '#socialsecurity', '#vpdebate', '#vpdebate', '#ohh', '#kaine', '#clinton', '#debates2016', '#bothliars', '#trump', '#maga', '#vpdebate', '#maga', '#whichisit', '#votegreen2016', '#debate', '#vpdebate', '#maga', '#votetrump', '#feelthebern', '#crook', '#pence', '#clinton', '#kaine', '#hurricanematthew', '#followt', '#ttt16', '#vpdebate', '#crookedhillary', '#wednesdaywisdom', '#', '#vpdebate', '#2a', '#texas', '#clinton', '#trump', '#vpdebate', '#kainemeltdown', '#cato2016', '#hillary', '#kaine', '#vpdebate', '#cuttaxesforwealthy', '#news', '#abesdebate', '#vpdebate', '#trumppence16', '#usa', '#clinton', '#whitehouse', '#politics', '#trending', '#guccifer2', '#clintonfoundation', '#paytoplay', '#takeastand', '#timkaine', '#donaldtrump', '#vpdebate', '#', '#obamacare', '#vpdebate', '#ptsd', '#ha', '#theretheygoagain', '#vpdebate', '#vpdebate', '#micdrop', '#fashthenation', '#altright', '#crookedhillary', '#maga', '#trump2016', '#guccifer2', '#dcccleaks', '#acobasi', '#vp', '#fact', '#debate2016', '#deba', '#everybodydrink', '#vpdebate', '#vpdebate', '#deba', '#vpdebate', '#sneaky', '#wabas', '#tcot', '#tlot', '#vpdebate', '#', '#vpdebate', '#independents', '#topprog', '#crookedhillary', '#tuesdaymotivation', '#vpdebate', '#vpdebate2016', '#de', '#vpdebate', '#kaine', '#pence', '#bluelivesmatter', '#clinton', '#vpdebate', '#neverhillary', '#wakeupamerica', '#plusd', '#vpdebate', '#potcallingthekettleblack', '#vpdebate', '#trump', '#clinton', '#obamacare', '#obamascare', '#aca', '#unaffordable', '#guccifer2', '#clintonfoundation', '#vpd', '#vpdebate', '#medicare', '#clinton', '#prescriptiondrugprices', '#medicare', '#better', '#poll', '#debate', '#vpdebate', '#debates', '#trump', '#clinton', '#pence', '#kaine', '#strongertogethe', '#hate', '#clinton', '#trump', '#expandsocialsecurity', '#debates', '#vpdebate', '#vpdebat', '#clinton', '#trump', '#breaking', '#debates2016', '#vpdebate', '#fnr', '#lo', '#vpdebate', '#debatenight', '#breakingnews', '#mikepence', '#donaldtrump', '#clinton', '#vpdebate', '#vpd', '#news', '#feedly', '#kaine', '#vpdebate', '#paytoplay', '#lovescroll', '#madailygist', '#octobersurprise', '#guccifer2', '#paytoplay', '#vpdebates', '#imwithtim', '#imwithher', '#vp', '#trumptrain', '#acaworks', '#mentalhealth', '#vpdebate', '#docswithher', '#crookedhillary', '#teaparty', '#gop', '#vpdebate', '#cmdebatecoverage', '#fbi', '#doj', '#clintonemail', '#wakeu', '#vincefoster', '#neverhillary', '#sethrich', '#dnc', '#indianapolis', '#indy', '#news', '#rickbkylex', '#equalrights', '#vpdebate', '#vpdebate2016', '#johnsonweld2016', '#guccifer2', '#therussiansdidit', '#timkaine', '#debates', '#vpdebate', '#voteyourfuture', '#clinton', '#ca4trump', '#clinton', '#dncleak', '#tcot', '#pence', '#veepdebate', '#thrillanvanilla', '#cardcarryingliberal', '#hillary', '#rednationrising', '#pjnet', '#maga', '#vpdebate', '#ffldebate', '#vpdebate', '#retweet', '#nofeeslender', '#ouijamovie', '#guccifer2', '#neverhillary', '#ret', '#corruptgov', '#crookedhillary', '#bengazi', '#clintoncash', '#hillaryshealth', '#votetrump', '#3wordhillary', '#trump', '#pence', '#obama', '#clinton', '#vpdebate', '#trum', '#vpdebate', '#nomeatonthetable', '#2a', '#nced', '#trump2016', '#americafirst', '#debatenight', '#drjillstein', '#wethepeople', '#trum', '#vpdebate', '#pen', '#vpdebate', '#clinton', '#trump', '#trump', '#vpd', '#timkaine', '#mikepence', '#trump', '#clinton', '#vpdebate', '#sospolitics', '#kaine', '#trump', '#clinton', '#vpdebate', '#irandeal', '#hilliary', '#obomba', '#neocons', '#clinton', '#bush', '#polls', '#oklahomalottery', '#vpdebate', '#vpdebate2016', '#vpdebate', '#obamacare', '#democratcare', '#maga', '#trump', '#benghazi', '#vpdeb', '#breaking', '#guccifer2', '#tarp', '#obnoxious', '#trumppence16', '#americafirst', '#vpdebates', '#strongertogether', '#ohhilly', '#trump', '#guccifer2', '#vpdebate', '#bigle', '#vpdebate', '#timkaine', '#tru', '#p2', '#tcot', '#politics', '#prosecutehillary', '#tarp', '#guccifer20', '#obama', '#usa', '#veterans', '#clinton', '#hillary', '#clinton', '#kaine', '#vpdebate', '#vpdebate2016', '#ncdsapgov', '#vpdebate', '#kaine', '#realitycheck', '#debate2016', '#clinton', '#trump', '#decision2016', '#socialsecurity', '#vpdebate', '#makeamericagreatagain', '#debatenight', '#lyingcrookedhillary', '#debates', '#votetrump', '#maga', '#clinton', '#hillary', '#criminal', '#benghazi', '#featured4', '#vpdebate', '#kaine', '#acaworks', '#mentalhealth', '#vp', '#vpdebate', '#christichat', '#donaldtrump', '#johnsonweld', '#garyjohnson', '#p2', '#tcot', '#clinton', '#neverh', '#trumpfail', '#malyndanyc', '#mustread', '#feedly', '#vpdebate', '#crookedhillary', '#kaine', '#clinton', '#vicepresidential', '#clinton', '#alinsky', '#tcot', '#strongertogether', '#bluewave2016', '#imwithher', '#2016election', '#pjnet', '#vpdebate', '#trumpwhitehouse', '#followback', '#vpdebatebill', '#debates2016', '#feedly', '#poll', '#tuesdaymotivation', '#wikileaks10', '#octobersurprise', '#nationaltacoday', '#clinton', '#', '#2016election', '#trump', '#clinton', '#vpdebate', '#debates', '#nevertrump', '#vpdebate', '#clinton', '#neverhillary', '#vpdebate', '#2a', '#guns', '#2a', '#', '#vpdebate2016', '#crookedhillary', '#imwithher', '#', '#hsgovchat', '#rednationrising', '#trumppence', '#americaf', '#thelead', '#timkaine', '#cbs', '#deflect', '#deflect', '#deflect', '#deflect', '#debatenight', '#vpdebate', '#debates2016', '#debates', '#taxes', '#ya4hillary', '#vpdebate', '#trumppence16', '#meteor2016', '#trump', '#clinton', '#kaine', '#pence', '#vpdebate', '#vpdebate', '#bluelivesmatter', '#blacklivesmatter', '#oops', '#supremelegends', '#vpdebate', '#alternative', '#vpdebate', '#hillary2016', '#mikepence', '#vladimirputin', '#hyocrisy', '#trumppence16', '#americafirst', '#debates', '#obamacare', '#billclinton', '#clintonfoundation', '\"#trumps\"', '#mikepence', '#hillaryclinton', '#business', '#kaine', '#clinton', '#trumpcheatsatgolf', '#trump', '#trumppence16', '#bigleaguetr', '#vpdebate', '#news', '#vicepresidentialdebate', '#hillary2016', '#uselection', '#maga', '#legaltheft', '#vpdebate', '#clintonemails', '#debates2016', '#imwithhe', '#clintonfoundation', '#wikileaks', '#hillaryclinton', '#dnc', '#vpdebate2016', '#guccifer2june', '#vpdebate', '#debatewithffl', '#vpdebate', '#periodsforpence', '#neverclinton', '#votetrumppence2016', '#vpdebate', '#guccifer2', '#vpdeb', '#kaine', '#debates2016', '#debates', '#bigleaguetruth', '#potus', '#guccifer2', '#octobersurprise', '#clin', '#fullrepeal', '#featured3', '#nicetry', '#vpdebate', '#guccifer2', '#followthemoney', '#1010wins', '#trumpvsclinton', '#taxtherich', '#guccifer2', '#never', '#shameful', '#vpdebate', '#vpdebate', '#trump2016', '#clinton', '#satire', '#releasethetranscripts', '#guccifer2', '#octobersurprise', '#idontrecall', '#imwithher', '#truepundit', '#clintonemailscandal', '#', '#trump', '#vpdebate', '#rednati', '#timkaine', '#americafirst', '#vp', '#drunktweetthedebates', '#basketofdeplorables', '#basementdwellers', '#kane', '#vpdebate', '#maga', '#vpdebate', '#vpdebate', '#basketofdeplorable', '#kaine', '#vpdebate', '#hillary', '#makeamericagreatagain', '#implicitbias', '#vpdebate', '#hillary', '#imwiththem', '#trump', '#hillary', '#hollywood', '#msm', '#government', '#basementdwellers', '#vpdebate', '#imwithher', '#iwillplayyourgame', '#vpdebate', '#stfukaine', '#democrats', '#vpdebate', '#hillary', '#trumpv', '#deplorables', '#irredeamable', '#tacobowls', '#superpredators', '#stfu', '#vicepresidentialdebate', '#trump', '#pen', '#kainemeltdown', '#vpdebate', '#seiuforhillary', '#hillary', '#vpdebate', '#vpdebate', '#th', '#politics', '#feedly', '#biggestli', '#trumppence16', '#vpdebate', '#vote', '#crookedhillary', '#hillary', '#vpdebate', '#fdrlst', '#vpdebate', '\"#hillarys\"', '\"#obamas\"', '#trump', '#chicago', '#hillary', '#vpde', '#neverhillary', '#maga', '#wakeupamerica', '#hamas', '#isis', '#followthemoney', '#vpdebate2016', '#maga', '#superpredators', '#subhuman', '#vpdebate', '\"#pences\"', '#vpdebate', '#vpdeba', '#2a', '#vpdebate', '#deplorables', '#vpdebate-pence', '#vpdebate', '#kaineandunable', '#kai', '#30years', '#hillary', '#debate2016', '#america', '#ttp', '#lied', '#trump', '#ameri', '#pence', '\"#hillarys\"', '#deplorables', '#vpdebate', '#basketofdeplorables', '#vpdebate', '#doublestandard', '#millennialtalk', '#basementdwellers', '#deplorables', '#vpdebate', '#cruzcrew', '#tcot', '#ccot', '#tpp', '#2a', '#hillary', '#hillary', '#wakeupamerica', '#votetrump', '#maga', '#neverhilla', '#dep', '#pence', '#vpdebate', '#benghazi', '#maga', '#debate', '#vpdebate', '#kaine', '#hillary', '#makeamericagreatagain', '#leadership', '#trumppence16', '#trumptrain', '#maga', '#', '#vpdebate', '#vpdebate', '#guiltyassin', '#sickhillary', '#neverhillary', '#vpdebate', '#synonym', '#polcommcc16', '#trumpfinancialtips', '#basketofdeplorables', '#vpdebate', '#trumpincuba', '#rednat', '#hillary', '#trump', '#uniteblue', '#vpdebate', '#maga', '#imwithhe', '#neverhillary', '#trump2016', '#trump', '#hillary', '#fedup', '#vpdebate', '#cspan', '#vpdeb', '#pudingtane', '#deplorable', '#vpdebate', '#kaine', '#hillary', '#vpdebates2016', '#benghazi', '#clintonscandals', '#ccot', '#centralparkfive', '#vpdebate', '#kaineislost', '#crookedhillary', '#crookedsystem', '#maga', '#vpdebat', '#trumppence16', '#maga', '#vpdebate', '#trump', '#hillary', '#kainevspence', '#bluelivesmatter', '#vpdebate', '#pence', '#vpdebate', '#kainemeltdown', '#hillary', '#kaine', '#vpdebate', '#trumppence', '#cato2016', '#hillary', '#jill', '#kaine', '#vpdebate', '#maga', '#kaine', '#hillary', '#trumpcampaign', '#kaineisahypocrite', '#kaineme', '#kain', '#climatechange', '#trusts', '#virwinia', '#vpdebate', '#creepy', '#angry', '#un', '#vpdebate', '#vpdebate2016', '#trump2016', '#hillary', '#tcot', '#imwithher', '#vpdebate', '#vpdebate', '#benghazi', '#neverhillary', '#mag', '#vpdebate', '#blu', '#kaine', '#trump', '\"#hillarys\"', '#vpdebate', '#trumppence2016', '#makeamericagre', '#trumplivetweetpredictions', '#wakeupamerica', '#hillary', '#clinton', '#blacklives', '#blackvotes', '#neverhilary', '#teamt', '#trump', '#hillary', '#deplorable', '#hillary', '#timkaine', '#liberal', '#america', '#history', '#benghazi', '#clintonkaine2016', '#kaine', '#mikepence', '#kaine', '#hillary', '#vpdebate', '#vpdebate2016', '#timkaine', '#mikepence', '#tr', '#nra', '#', '#hillaryforprison', '#deplorable', '#insult', '#vpdebate', '#hillaryclinton', '#makeamericagreatagain', '#crookedhillary', '#crook', '#debates2016', '#benghazi', '#hillary', '#debatequestions', '#trump', '#obama', '#hillary', '#police', '#blacklivesm', '#hillary', '#women', '#clintoncash', '#haiti', '#bokoharam', '#iran', '#billclinton', '#vpdebate', '#foxnews', '#imwithher', '#cnn', '#msnbc', '#foxn', '#hillaryshealth', '#deba', '#vpdebate', '#timkaine', '#islam', '#imwithher', '#voteblue', '#iregistered', '#americafirst', '#trump', '#debates', '#bornalive', '#radicals', '#lyinghillary', '#trump2016', '#', '#trumppence', '#basketofdeplorables', '#kreepykaine', '#hillary', '#kaine', '#perfectmatch', '#vpdebate', '#hillary', '#clone', '#chicago', '#vpdebate', '#trumppence16', '#pence', '#whereisweld', '#where', '\"#timkaines\"', '#pence', '\"#hillarys\"', '#factcheck', '#vpdebate', '#vpdebate', '#re', '#hillary', '#dem', '#corrupt', '#dnc', '#wasserman', '#bigleaguetruth', '#copolitics', '#vpdebate', '#trumplivetweetpredictions', '#pence', '\"#hillarys\"', '#avalancheofinsults', '#imwithher', '#ma', '#uncannyvalley', '#vpdebateactionmovie', '#ohnoyoudidnt', '#vpdebate', '#debatewithffl', '#kaine', '#vpdebate', '#wabashdw', '#fail', '#vpdebate', '#hi', '#trump2016', '#followthemoney', '#hillary', '#followthemoney', '#crooked', '#vpdebate', '#decision2016', '#basketofdeplorables', '#basementdwellers', '#vpdebate', '\"#trumps\"', '#hillary', '#myamericandream', '#immigrationreform', '#everybodymatters', '#lasttimetrumppaidtaxes', '#tr', '#vpdebate', '#pencekaine', '#kainevspence', '#trump', '#hillary', '#cnn', '#nbcnews', '#abc', '#cbsnews', '#kaineinterrupts', '#uspoli', '#trump', '#hillary', '#timkaine', '#mikepence', '#vpdebate', '#pence', '#vpdebate', '#teapa', '#presidentialdebate', '#vpdebate', '#when', '#vpdebate', '#wiright', '#neverhillary', '#obamacare', '#hillaryclinton', '#hillary', '#vpdebate', '#trumppence16', '#trumptrain', '#clintoncrimefamily', '#hillary', '#kainesaloozer', '#basketofdeplorables', '#trumppence', '#hillary', '#pence', '#hillary', '#vpdebate', '#trumppence2016', '#maga', '#vppence', '#mikepence', '#clintonfoundation', '#hillary', '#timkaine', '#unfit', '#neverhillary', '#newsblurt', '#pig', '#trump', '#hillary', '\"#hillarys\"', '#letsallridetohelltogether', '#staffitout', '#nocontest', '#vpdebate', '#deplorableus', '#askinghardquestions', '#us', '#mikepence', '#timkaine', '#hillarycare', '#obamacare', '#hillary', '#medicaid', '#', '#hillary', '#vpde', '#deplorables', '#vpdebate', '#pence', '#hillary', '#trumps', '#dumbass', '#kaine', '#hillary', '#debatenight', '#vpdebate', '#basementdwellers', '#basketofadorables', '#stop', '#fatso4prez3', '#crookedhillary', '#kaineisadouchebag', '#hillary', '#waronwomen', '#hillary', '#unfit4potus', '#ne', '#canyounot', '#benghazi', '#benghazi', '#benghazi', '#burn', '#wethepeople', '#hillary', '#justice', '#lockherup', '#highcrimes', '#trumppence16', '#trump', '#mega', '#mak', '#deplorables', '#vpdebate', '#creepyclown', '#vpdebate', '#born', '#potential', '#cabinet', '#hillary', '#trumpwon', '#stoptrump', '#vpdebate', '#hillary', '#imwithher', '#teamkaine', '#nm4hillary', '#rattled', '#vpdebate', '#hannity', '#foxnews', '#cnn', '#drudgereport', '#trump', '#hillary', '#clapback', '#vpdebate', '#vpdebate', '#blm', '#tcot', '#pjnet', '#p2', '#hillary', '#hillary', '#vpdebate', '#kaine', '#atlasprezdebates', '#debatenight', '#hillary', '#lye', '#de', '#highbloodpressure', '#stressmanagement', '#vpdebate', '#vpdebate', '#hillary', '#timkaine', '#hillaryforprison', '#lockherup', '#', '#suprez', '#trump2016', '#crookedhillary', '#maga', '#vpdebate2016', '#vpdebate', '\"#imwithher\"', '#hillary', '#imwithher', '#neverhillary', '#vpdebate', '#vpdebate', '#crookedhillary', '#donotdisturbhillarybeforenoon', '#rigged', '#letpencespeak', '#virwinia', '#trumptaxes', '#trumptaxreturns', '#liberals', '#vpdebate', '#chicago', '#vpdebate', '#yrwatc', '\"#hillarys\"', '#deplorables', '#northcarolina', '#hillary', '#pence', '#hillary', '#crooked', '#mcpc', '#', '#debates', '#vpdebate', '#queenofcorruption', '#hillary', '#haiti', '#clintoncrimefoundation', '#msm', '#make', '#neverhillary', '#basem', '#gotrumppence', '#basketofadorables', '#foxnews', '#vpdebate', '#wikileaks', '#hillary2016', '#basketofdeplorables', '#vpdebate', '#deadamericans', '#vpdebate', '#8230', '#trump16', '#neverhillary', '#', '#gunvote', '#2a', '#deplorablehillary', '#vpdebate', '#pence', '#guccifer2', '#debates', '#vpdebate', '#jillnothill', '#bringbackbernie', '#clintonscandals', '#wusfvotes', '#cryingkaine', '#vpdebate', '#annoyingashell', '#8217', '#birther', '#nevertrump', '#sortoftrue', '#paytoplay', '#bribes', '#treason', '#criminalpolitians', '#hillary', '#paytoplaykaine', '#debatenight', '#pr', '#imwithher', '#teamkaine', '#nm4hi', '#crookedhillary', '#vpdebate', '#cryingkaine', '#hillary', '#trumppence16', '#makeamericagreatagain', '#imwithhe', '#hillary', '#russia', '#bananarepublic', '\"#basketofdeplorables--its\"', '#vpd', '#vpdebate', '#tcot', '#lnyhbt', '#tgdn', '#maga', '#trump', '#trumppence2016', '#vpdebate', '#trump', '#hillary', '#dncleaks', '#vpdebate', '#kaine', '#pence', '#pence', '#hillary', '#mediabias', '#guiltyassin', '#vpdeba', '#nevermind', '#finally', '#maga', '#pence', '\"#hillarys\"', '#basketofdeplorabes', '#pigs', '#slobs', '#fat', '#disgusting', '#vpdebate', '#vpdebate', '#kainemeltdown', '#pencepounce', '#creepykaine', '#insult', '#vpdebate', '#trump', '#hillary', '#vpdebate', '#hillary', '#trump', '#obvious', '#superpredators', '#tacobowls', '#thedeplorables', '#allrss', '#vpdebate', '#deplorables', '\"#hillarys\"', '#trump', '#maga', '#vpdeb', '#clintonchildrensbooks', '#kellyfile', '#maddow', '#vpdebate', '#dumptrump', '#denial', '#kaine', '#pence', '#kainevspence', '\"#kaines\"', '#vpdebate', '#hypocrites', '#bonespurs', '#coward', '#cain', '#corrupt', '#hillary', '#vpdebate', '#billgotimpe', '\"#hillarys\"', '#debates', '#mancow', '#comey', '#trump', '#hillary', '#gucci', '#platform', '#pence', '#kaine', '#hillary', '#trump', '#socialsecurity', '#madampresident', '#imwithher', '#strongertogether', '#clintonkaine', '#kaine', '#hillary', '#killary', '#pence', '\"#trumps\"', '#vpdebate', '#debates', '#vpdebate', '#nbc4dc', '#hillary', '#basketofdeplorables', '#vpdebate', '#scaryclowns', '#haiti', '#clintonfoundation', '#crookedhillary', '#decentguy', '#hillaryforprison', '#pence', '#allamendme', '#vpdebate', '#marsh2016', '#basketofdeplorables', '#octobersurprise', '#vpdebate', '#vpdebate', '#hillary', '#hillary', '#lol', '#vpdebate', '#vpdebate', '#kaine', '#comveep', '#hillary', '#vpdebate', '#cnn', '#caracasdata', '#hillary', '#hillary', '#debates2016', '#trumpwins', '#prayforus', '#thebirther', '#hillary', '#hillary', '#vpd', '#govsteigeler', '#tim', '#documentdump', '#clinton', '#matthew', '#buckeyestate', '#trump', '#trumppence2016', '#ohiostate', '#ohiohc2016', '#vote', '#hrc', '#maga', '#dc', '#medical', '#president', '#octobersurprise', '#neverhillary', '#votetrump', '#taxcheattrump', '#patriotic', '#periscope', '#2016_election', '#wikileaks', '#documentthevote', '#octobersurprise', '#timkaine', '#vpdebate', '#imwithher', '#octobersurprise', '#strongertogether', '#octobersurprise', '#de', '#clinton', '#hillaryhealth', '#woasc', '#cybersecurity', '#uselection', '#neverhillar', '#crookedhillary', '#trump2016', '#billclinton', '#obamacare', '#nationaltacoday', '#hillarysamerica', '#isis', '#time', '#politics', '#stories', '#hillaryrottenclinton', '#teaparty', '#tcot', '#clinton', '#clintonfoundation', '#billclinton', '#rape', '#rapist', '#msnbc', '#wikileaks', '#maga', '#hillary', '#trump', '#clin', '#octorbersurprise-donald', '#makeamericagrea', '#trump', '#claims', '#tax', '#system', '#potus', '#clinton', '#sanders', '#nevertrump', '#lovetrumpshate', '#obamacare', '#prayforhaiti', '#droning', '#wikileaks', '#maga', '#conspiracy', '#masa', '#neverhillary', '#clintonfraud', '#imwithher', '#hillary', '#liar', '#cheater', '#killer', '#benghazi', '#politicalwire', '#thinkdifferent', '#maga', '#cdnpoli', '#maga', '#trump', '#clinton', '#octobersurprise', '#demexit', '#neverhillary', '#tcot', '#waronwomen', '#neverhillary', '#neverhillary', '#coverupoperation', '#hillaryclinton', '#stoprush', '#uniteblue', '#p2', '#arkansas', '#octobersurpr', '#wikileaks', '#fltogether', '#stop', '#neverhillary', '#radicalislamicterror', '#isis', '#votetrump', '#vpdebate2016', '#vpdebate', '#farmville', '#foxnews', '#trump', '#personalattacks', '#fox', '#clinton', '#trump', '#clinton', '#debate2016', '#clintonfoundation', '#haiti', '#octobersurprise', '#', '#neverhillary', '#maga', '#clinton', '#warren', '#hillaryclinton', '#dylansaccoccio', '#aliciamachado', '#billclinton', '#davidsedaris', '#clinton', '#trump', '#clintonsexscandals', '#hillarysliesmatter', '#crookedhillary', '#imwithher', '#tr', '#octobersurprise', '#wiki', '#obamacare', '#clinton', '#laments', '#deci', '#nycnowapp', '#wikileaks', '#hillary', '#whitewater', '#wikileaks', '#clinton', '#msm', '#trump', '#propaganda', '#halloweenin5words', '#nasa', '#fbi', '#lovelandtrump', '#vpdebate', '#ireland', '\"#clintons\"', '#tcot', '#maga', '#msm', '#p2', '#topprog', '#julianassange', '#homelandsecuri', '#ohio', '#trumppence16', '#debatenight', '#fucktrump', '#haiti', '#cybersecurity', '#uselect', '#hillaryforprison', '#crook', '#neverhillary', '#incompetent', '#votetrump', '#americafirst', '#thechoicepbs', '#hillno', '#jillyes', '#fb', '#clintonhypocrisy', '#copolitics', '#vpdebate', '#love', '#factcheck', '#liberal', '#hillary', '#racist', '#imwithker', '#clintoncartel', '#crookedhillary', '#hil', '#dizzyhillary', '#trump2016', '#clinton', '#hillarykilllist', '#neverhillary', '#votetrump', '#trump2016', '#liwts', '#legalizeitwethinkso', '#news', '#biased', '\"#clintons\"', '#hillarycare', '#indicthillary', '#criminalsandtraitorsincharge', '#ccot', '#ycot', '#sanders', '#trump', '#taxes', '#system', '#rigged', '#potus', '#clinton', '#nevertrump', '#lovetrumpshate', '#donthecon', '#obamacare', '#octobersurprise', '#wikileaks', '#vpdebate', '#trumpsarmy', '#tcot', '#maga', '#trump', '#clinton2016', '#haiti', '#hurricanematthew', '#arizona', '#usa', '#latest', '#uniteblue', '#imwithh', '#news', '#politics', '#clinton', '#trump', '#follow', '#donaldtrump', '#hillaryclinton', '#imwithher', '#nationalpoetryday', '#burmashave', '#p2', '#ctl', '#im', '#ameriphobe', '#crookedhillary', '#corruptfbi', '#rapistbillclinton', '#hil', '#neverhllary', '#maga', '#trumpmentum', '#obamacare', '#tcot', '#dishonesthillary', '#clintonfoundation', '#hillary', '#tcot', '#whyihatetwitterin5words', '#imwithher', '#strongertogether', '#pence', '\"#clintons\"', '#abortion', '#dcexaminer', '#trumplicans', '#trumpocrats', '#clintoncash', '#hillarysamerica', '#clintoninc', '#steinbaraka', '#stilljill', '#defundpp', '#wednesdaywisdom', '#morningjoe', '#dtmag', '#maga', '#morningjoe', '#msnbc', '#imwithher', '#trump2016', '#breaking', '#doj', '#moleg', '#hillary', '#assange', '#freericky', '#abcnews', '#abc', '#news', '#news', '#post', '#press', '#mediawatch', '#hait', '#crookedhi', '#clintons', '#trump', '#nextoctoberheadlines', '#hillaryclinton', '#donaldtrump', '#imwithher', '#hillaryclinton', '#benghazi', '#dobbs', '#jimmydore', '#hillary', '#poetry', '#keepitalive', '#morningjoe', '#maga', '#hillary', '#billclinton', '#obama', '#makeamericagreatagain', '#mornin', '#obamacare', '#truepundit', '#clownsightings', '#hilaryclinton', '#farr', '#ohio', '#florida', '#hillaryshea', '#crookedmichelle', '#dontthinkweforgo', '#ncpol', '#fl', '#pa', '#oh', '#nh', '#enough', '#unfit', '#impeach', '#wednesdaywisdom', '#clinton', '#trump', '#townhall', '#haiti', '#puttingcountryaheadofparty', '#hillaryclinton', '#2ndamendment', '#2a', '#nra', '#clintoncash', '#vpdebate', '#debatenight', '#brexit', '#uselection', '#polls', '#clinton', '#trump', '#cnn', '#blacklivesmatter', '#election2016', '#hillary', '#imwithtim', '#vpdebate', '#cryingkaine', '#syrianrefugeesarenotterrorists', '#timkaine', '#mexicans', '#latinos', '#vpdebate', '#factcheck', '#trump', '#vpdebate', '#vpdebate', '#voaalert', '#nevertrump', '##vpdebate2016', '#', '#factcheck', '#tbt', '#trump', '#vpdebate', '#kaine', '#pence', '\"#trumps\"', '#vpdebate', '\"#kaines\"', '#trump', '#mediaethicsdc', '#makeamericagreatagain', '#trump2016', '#mikepence', '#trump', '#vpdebate', '#baristas', '#trump', '#rigged', '#trump', '#thepencil', '#vpdebate', '#mikepence', '#trump', '#vpdebate', '#imwit', '#pence2020', '#vpdebate', '#trump', '#vpdebate', '#debate', '#latestnews', '\"#trumps\"', '#ptsd', '#vpdebate', '#trump', '#mikepence', '#trump', '#hegotnoplans', '#vpdebate', '#kidvicious', '#delusional', '#vpde', '#vpdebate', '#shame', '#tytlive', '#vpdebate', '#vpdebate', '#imwithtim', '#demrhetoric', '#vpdebate', '#vpde', '#vpdebate', '#mikepence', '#trump', '#hillaryclinton', '#kaine', '#gop', '#vpdebate', '#vpdebate2016', '#mi', '#delusionalkaine', '#trump', '#2corinthians', '#vpdebate', '#kaine', '#trump', '#vpdebate', '#workhard4themoney', '#vpdebate', '#yeswekaine', '#strong', '#pence', '#trump', '#assad', '#russia', '#kaine', '#pence', '#trump', '#vpdebate', '#vpdebate2016', '#deba', '#askaboutabortion', '#vpdebate', '#askaboutabortion', '#vpdebate', '#trump', '#trump2016', '#vpdeb', '#vpdebate2016', '#vpdebate', '#thefive', '#trump', '#clinton', '#strength', '#vpdebate', '#trumppence16', '#trump', '#debates2016', '#vpdebate2016', '#clintonfoundatio', '#p2', '#me', '#pence', '#kaine', '#vpdebate', '#veepdebate', '#pence', '#trump', '#kaine', '#kaine', '#pence', '#trump', '#vpdebate', '#vpdebate2016', '#', '#bigleaguetruth', '#vpdebate', '#pence', '#trump', '#vpdebate', '#timkaine', '#trum', '#mikepence', '#trump', '#trum', '#trump', '#vpdebate', '#alternateuniverse', '#vpdebate', '#sad', '#justgo2the', '#the', '#imwithtim', '#vpdebate', '#imwithher', '#denialisnotjustariverinegypt', '#vpdebate', '#hrc', '#hillaryforoh', '#factcheck', '#vp', '#vpdeb', '#vpdebate', '#moderator', '#clintonfoundation', '#deplorable', '#vpdebate', '#mikesoctobersurprise', '#ptsd', '#trump', '#lgbt', '#trump', '#trump16', '#news3', '#vpdebate', '#debates', '#debates2016', '#pencemustgo', '#pencekaine', '#mikepence', '#', '#wakeup', '#sheeple', '#pence', '#putin', '#kainewreck', '#', '#nevertrump', '#vicepresidentialdebate', '#vpdebate', '#msnbc', '#kaine', '#putin', '#coldwarisover', '#vpdebate', '#debates2016', '#vpdebate', '#pence', '#trump', '#vpdebate', '#pence', '#trump', '#kaine', '#clinton', '#vpdebate', '#vpdebate201', '#sospolitics', '#vpdebate', '#cripthevote', '#ljdebate', '#tax', '#trump', '#taxes', '#vpdebate', '#nevertrump', '#vpdebate', '#trump', '#hillary', '#vpdebate', '#pence', '#donaldtrump', '#abcnews', '#vpdebate', '#factsmatter', '#umm', '#vpdebate', '#vpdebate', '#wordsfail', '#respect', '#vpdebate', '#putin', '#trump', '#vpdebate', '#putin', '#american', '#libtards', '#vpdebate', '#fatshame', '#kainewreck', '\"#pences\"', '#trump', '#vpdebate', '#vpdebate', '#trump', '#clinton', '#vpdebate2016', '#octobersuprise', '#debates2016', '#trump', '#basketofdeplorables', '#trump', '#timkaine', '#vpdebate', '#facts', '#kaine', '#clinton', '#pence', '#vpdebate', '#vpdebate2016', '#de', '#pence', '#kaine', '#trump', '#putin', '#trump', '#clueless', '#vpdebate', '#timkaine', '#mikepence', '#vpdebate', '#vpdebate2016', '#truthhurts', '#2016_presidential_race', '#rhsgov', '#msnbc', '#vpdebate', '#vpdebate', '#trump', '#pence', '\"#trumps\"', '#trump', '#mikepence', '#vpdebate', '#timkaine', '#vpdebate', '#pencelogic', '#draftdodgingdonald', '#timkaine', '#trump', '#vpdebate', '#chaching', '#vpdebate', '#pence', '#trump', '#vpdebate', '#debates2016', '#kaine', '#hillary', '#hillary', '#truth', '#vpdebate', '#keeptheliesstraight', '#vpdebate', '#npc', '#winning', '#vpdebate', '#notrump', '#pencelosingbadly', '#virginianslovehillary', '#trump', '#vpdebate', '#msnbc', '#trump', '#vpdebate', '#election2016', '#vpdebate', '#msm', '#kaine', '#pence', '#lgbtq', '#', '#trump', '#womencanstoptrump', '#pathetic', '#nevertrump', '#vpdebate', '#lmfao', '#kaine', '#pence', '#vpdebate', '#vpdebate', '#im', '#vpdebate', '#maga', '#trumppence', '#makeamericagreatagain', '#hillary', '#neverhillary', '#trump', '#vpdebate', '#blather', '#vpdebate', '#kainevspence', '#kaine', '#trump', '#unity', '#kaineandunable', '#kainemeltdown', '#imwithyou', '#vpdebate', '#imwithher', '#black', '#lasen', '#hillarysarmy', '#mikepence', '#trump', '#vpdebate', '#vanepolitics', '#vane', '#showmethemoney', '#vpdebate', '#ptsd', '#eh204', '#debates2016', '#howisthatpossible', '#hillaryclinton', '#blacklivesmatter', '\"#trumps\"', '#tax', '#letstalktax', '#toronto', '#werq', '#lawlife', '#vpdebate', '#gameover', '#winningstrategy', '#makeamericagreatagain', '#trump', '#vi', '#guccifer2', '#ctl', '#p2', '#topprog', '#nevertrump', '#', '#vpdebate', '#trump', '#pence', '#vpdebate', '#debates', '#vpdebates', '#realestate', '#mikepence', '#trump', '#vpdebate', '#trump', '#mikepence', '#cybersecurity', '#trump', '#russia', '#vpdebate', '#debates2016', '#neve', '#vpdebates2016', '#kainemeltdown', '#', '#pence', '#russian', '#trump', '#kaine', '#vpdebate', '#trump', '#hillary', '#timkaine', '#obamacare', '#', '#pence', '#trump', '#vpdebate', '#russia', '#kaine', '#trump', '#obama', '#tcot', '#kaine', '#trump', '#pence', '#vpdebate', '#vpdebate', '#endofstory', '#pence', '#trump', '#troops', '#vpdebate', '#clintonfoundation', '#vpdebate', '#vpdebate', '#lovetrumpsh', '#trump', '#pence', '#vpdebate', '#kainevspence', '#vpdebate', '#kaine', '#trump', '#pence', '#moderator', '#putin', '#vpdebate', '#trump', '#clinton', '#trump', '#pence', '#clintonk', '#votetrump', '#pense', '#trump', '#vpdebate', '#maga', '#yourefired', '#vpdebate', '#cato', '#senatorkain', '#hiphopawards', '#betawards', '#vpdebate', '#veepdebate', '#vpdebate', '#tcot', '#lnyhbt', '#tgdn', '#maga', '#trump', '#trumpp', '#vpdebate', '#pencelies', '#trump', '#rigged', '#vpdebate', '#vpdebate', '#nevertrump', '#imwith', '#nowplaying', '#gangsta', '#rap', '#westcoast', '#atheist', '#atheism', '#vpdebate', '#trump', '#rookiekaine', '#pencewins', '#deplorables', '#lessgovmorefun', '#trump', '#mike', '#trump2016', '#trumpteam', '#tcot', '#obvious', '#vpdebate', '#trump', '#pence', '#votesmart', '#vpdebate', '#pencemustgo', '#nevertrump', '#repulsivepence', '#dump', '#epicfail', '#mikepence', '#kaine', '#trump', '#vpdebate', '#goplies', '#trump', '#vpdebate', '#bigleaguetruth', '#newsintweets', '#donaldtrumphistory', '#timkaine', '#nevertrump', '#imwithher', '#mikepence', '#timkaine', '#vpdebate2016', '#vpdeb', '#bunsdebate', '#vpdebate', '#unity', '#vpdebate', '#vpdebate', '#trump', '#bigleaguetruth', '#vpdebate', '#kaine', '#trump', '#pence', '#pence', '#trump', '#russia', '#crimeaisukraine', '#trumppence16', '#deplorables', '#basementdwellers', '#makeamericagreatagain', '#vpdebate', '#notanargument', '#antiargument', '#vpdebate', '#trumptrain', '#trumptaxreturns', '#trumptaxes', '#infrastructure', '#voteoutgop', '#nccd', '#trump', '#drinkingthekoolaide', '#vpdebate', '#voteblue', '#imwithher', '#americafirst', '#maga', '#', '#vpdebate', '#humanrights', '#refugeecrisis', '#refugees', '#lavellaapgov', '#vpdebate', '#kaine', '#pence', '#neverhillary', '#trump', '#pencepivots', '#trump', '#pence', '#pencekaine', '#vpdebate', '#hu2vote', '\"#trumps\"', '#pence', '#vpdebate', '#imwithher', '#tcpt', '#vpdebate', '#sello', '#hillarysmigrants', '#imwithher', '#pencekaine', '#kainegotthis', '#maga', '#trump', '#3amtwitterrant', '#vpdebate', '#debates2016', '#pence', '#trump', '#trump', '#veterans', '#trump', '#vpdebate', '#trump', '#vpdebate', '#pencekaine', '#pence', '#', '#vpdebate', '#debates2016', '#debatenight', '#trump', '#clinto', '#vpdebate', '#debates', '#usa', '#presidency', '#mikepence', '#tim', '#saveusa', '#savejustice', '#hilary', '#trump', '#heswithputin', '#trumpluvsputin', '#vpdebate', '#maga', '#trumppence16', '#trumptrain', '#trump', '#leanright2016', '#psu', '#vpdebate', '#debates', '#pence', '#trump', '#syria', '#vpdebate', '#1uvote', '#vetsagainsttrump', '#unfittolead', '\"#trumpsters\"', '#pence', '#dementia', '#vpdebate', '#vpdebate', '#trump', '#what', '#unheardof', '#trumptrain', '#vpdebate', '#kaine', '#_proud_american', '#weveseenthisbefore', '#wtf', '#makeamericahateagain', '#proudnative', '#donaldtrump', '#trumptrain', '#trump', '#trumppence16', '#debates2016', '#neverhillary', '#votet', '#neverhillary', '#alwaystrump', '#champions', '#az', '#vpdebate', '#trump', '#clinton', '#debates', '#debates2016', '#debatenight', '#unitedwestand', '#tru', '#trump', '#clinton', '#michigan', '#wisconsin', '#trumpsarm', '#donthecon', '#dangeroustrump', '#trump', '#sfgiants', '#believen', '#vpdebate', '#maga', '#patriot', '#morningjoe', '#txsen', '#billclinton', '#trump', '#obamacare', '#trump', '#hillaryshealthcare', '#trumptrain', '#imwithher', '#nevertrump', '#gotham', '#usa', '#womenalsoknowstuff', '#trump', '#hillaryclinton', '#benghaziheroes', '#neverhillary', '#corrupthilla', '#trump', '#obamacare', '#national', '#election2016', '#corruption', '#oregon', '#trump', '#foxldt', '#dumptrump', '#wednesdaywisdom', '#trump', '#maga', '#america', '#upi', '#virginia', '#nevada', '#nevertrump', '#imwithher', '#makeamericagreatagain', '#trump2016', '#nev', '#trump', '#truth', '#nevertrump', '#hillary2016', '#riggedsystem', '#waronwomen', '#haiti', '#haiti', '#maga', '#wakeupamerica', '#clinton', '#wakeupameri', '#latest', '#arizona', '#georgia', '#iowa', '#ctl', '#p2', '#topprog', '#nevertrum', '#newsmax', '#latest', '#pennsylvania', '#colorado', '#askthegays', '#vpdebate', '#believen', '#trump', '#whitegenocide', '#hillaryshealth', '#trumppence16', '#husband', '#trump', '#trumpiswithyou', '#surprisevisit', '#imwithher', '#joeyarnoldvn', '#homeland', '#preach', '#racisttrump', '#nevertrump', '#hannity', '#maga', '#gotrumpgo', '#trump', '#vpdebate', '#debates2016', '#votelibertarian', '#parisagreement', '#ohhillyes', '#', '#uglytrump', '#cbsnews', '#lnsm', '#makeamericascaredagain', '#smartnews', '#thatmexicanthing', '#gop', '#political', '#hack', '#trump', '#maga', '#trumptrain', '#nevertrump', '#crookedhillary', '#hillary', '#benghazi', '#vpdebate', '#longwooddebate', '#maga', '#tcot', '#retweet', '#donald', '#trump', '\"#crookedhillarys\"', '#trum', '#lol', '#trump', '#hrc', '#pence4potus', '#nevertrumporhillary', '#latinos', '#nevada', '#trumptrain', '#trump', '#virginia', '#florida', '#colorado', '#northcarolina', '#nevada', '#pennsylvania', '#newhampshire', '#ohio', '#wisconsin', '#iowa', '#hannity', '#hillary', '#hungergames', '#', '#freeric', '#trumptrain', '#exgop', '#trump', '#trumptrain', '#trump', '#maga', '#equalpay', '#guccifer2', '#trump', '#trump', '#pence', '#criminaljournalists', '#fox', '#trump', '#lovetrumpshate', '#benghazi', '#bengha', '#holocaust', '#conspiracythe', '#jewschoosetrump', '#trump', '#trump2016', '#clinton', '#trump', '#p2', '#letmetellyouintwolanguages', '#trebortwo', '#slone', '#we', '#wakeupamerica', '#trump', '#green', '#maga', '#freericky', '#cnn', '#trump', '#cnn', '#maga', '#latinosfortrump', '#trump', '#3am', '#trump', '#hillary', '#nevada', '#bigfatliar', '#trump', '#immigration', '#latism', '#cair', '#banislam', '#deportmuslims', '#iftrumpandhillaryhookedup', '#trump2016', '#makemetallicagreatagain', '#nevertrump', '#tntweeters', '#uslatino', '#gop', '#hrc', '#tempe', '#cnn', '#lifeimitatingart', '#veep', '#comeon', '#maga3x', '#stopthismadman', '#voteblue', '#trump', '#election2016', '#trumptaxes', '#trumptaxevasion', '#', '#cdnpoli', '#uspoli', '#wakeup', '#trump', '#vegas', '#reno', '#carsoncity', '#fallon', '#unlv', '#maga', '#vpdebate', '#trumptrain', '#trump', '#clintonsca', '#trump', '#', '#crookedhillary', '#abortion', '#kainelies', '#trump', '#benghazi', '#shecants', '#annanavarro', '#trump', '#debate', '#clinton', '#mexican', '#holocaust', '#trump', '#trumptaxevasion', '#trumptaxes', '#makeamerica', '#toddlersandtiaras', '#nevertrump', '#imwithher', '#cnn', '#p2', '#tntweeters', '#uslatino', '#uniteblue', '#dncleak', '#ihatetimwaterman', '#2016vote', '#delusional', '#maga', '#trump', '#trumptrain', '#msm', '#crookedhillary', '#votetrump', '#trump', '#loco', '#latino', '#trump', '#hillary', '#illinoisclown', '#nlwildcard', '#wtf', '#trump', '#debate', '#vpdebate', '#trump', '#cnn', '#', '#hillary4prison', '#trumppence16', '#americafirst', '#maga', '#jobs', '\"#basementdwellers\"', '#business', '#news', '#trump', '#election', '#imwithher', '#potus', '#hannityhaikus', '#mantenerelbuentrabajo', '#freericky', '#maga', '#backtheblue', '#porndon', '#deb', '#maga', '#trumptrain', '\"#donthecons\"', '#notmytick', '#america', '#booth', '#vote', '#november8th', '#trumppence16', '#trump', '#neverhilla', '#wakeupame', '#stopcorruption', '#donald', '#ncpol', '#nevertrump', '#donthecon', '#p2', '#imwithher', '#vpdebate', '#pospence', '#pos', '#pence', '#hannity', '#maga', '#trump', '#trumppence16', '#trump', '#ohhillno', '#neverhillary', '#tcot', '#lnyhbt', '#tgdn', '#maga', '#trump', '#trumppence2016', '#respect', '#cnn', '#skittlesarecandy', '#skittles', '#trump', '#impulsive', '#wakeupamerica', '#cnn', '#trump', '#donlemon', '#neverh', '#yesallgeminis', '#11thhour', '#latest', '#colorado', '#michigan', '#wisconsin', '#crookedhillary', '#hillary', '#terrorvictims', '#vincefoster', '#clin', '#cnn', '#trumpkinlogic', '#imwithher', '#hillarysarmy', '#freericky', '#freespeech', '#1a', '#trump', '#election2016', '#thesimpsons', '#maddow', '#msnbc', '#alwaystrump', '#hillaryclinton', '#trump', '#thatmexicanthingagain', '#truth', '#kellyfile', '#wednesdaywisdom', '#strongertogether', '#trump', '#maga', '#americafirst', '#neve', '#bernie', '#wakeupamerica', '#notaxesnotrump', '#rigged', '#hillaryclinton', '#hillary', '#trump', '#hillaryclinton', '#billclinton', '#clintonkid', '#trumpstrong', '#hannity', '#paulryansaveus', '#vpdebate', '#trump', '#rr', '#hrc', '#trump', '#hillary', '#trump', '#fox10phoenix', '#trump', '#makeamericagreatagain', '#ya4hillary', '#imwithher', '#msm', '#libtards', '#firsttake', '#trump', '#unsuited4leadership', '\"#gothams\"', '#trumpfoundation', '#iregistered', '#americafirs', '#makeamericabrannigan', '#science', '#debates', '#trump', '#birtherism', '#nevertrump', '#exgop', '#cruzcrew', '#trump', '#american', '#steel', '#workers', '#jobs', '#potus', '#clinton', '#sanders', '#nevertrump', '#lovetrumpshate', '#lasttimetrumppaidtaxes', '#isis', '#trump', '#tc', '#morallytreasonable', '#trumpchosechina', '#makeamericagreatagain', '#trumptrain', '#hillaryclinton', '#neverhillary', '#trump2016', '#trumppence16', '#debates2016', '#isis', '#trump', '#tcot', '#notcomplicated', '#trump', '#maga', '#octobersurprise', '#trumpfinancialtips', '#3amtweet', '#googletranslate', '#vpdebate2016', '#trump', '#hillaryclinton', '#unscrewed', '#trumppence16', '#pafortrump', '#maga', '\"#hillarys\"', '\"#trumps\"', '#ptsd', '#nevertr', '#hillary', '#', '#octobersurprise', '#wikileaks', '#wikileaks10', '#assange', '#lockherup', '#veteran', '#ptsd', '#trumpstaxevasion', '#trumppence2016', '#makeamericagreatagain', '#debatenight', '#debates2016', '#trump', '#iran', '#morningjoe', '#poll', '#clinton', '#strongertogether', '#trump', '#maga', '#', '#debatenight', '#debates', '#debat', '#hrc', '#stocks', '#p2', '#trumpfina', '#harrisburg', '#trumptaxevasion', '#ishaantharoor', '#economy', '#finance', '#trump', '#deadbeatdonald', '#veteransforhillary', '#hillarypoliticaltips', '#ya4hillary', '#mikepence', '#vpdebate', '#timkaine', '#shareblue', '#iloveblackpeople', '#clinton', '#trump', '#reneauberjonois', '#clinton', '#trump', '#orangeanus', '#couch2016', '\"#hillarys\"', '#trump', '#irish', '#president', '#trump', '#us', '#trump', '#dictators', '#steinbarak', '#trumppence16', '#trumptrain', '#maga', '#politics', '#gossip', '#maga', '#trumppence', '#classact', '#hurricanemathew', '#cmm281', '#votetrump2016', '#maga', '#americafirst', '#vpdebate', '#debates2016', '#debates', '#trump', '#hillary', '\"#trumps\"', '#hillary', '#lose', '#trump', '#stupid', '#wonkette', '#satire', '#uniteblue', '#tcot', '#kitm', '#trumptrain', '#', '\"#trumps\"', '#clintonmachine', '#vote', '#neverhillary', '#money', '#trump', '#voteoutgop', '#registertovote', '#trump', '#rudygiuliani', '#realbencarson', '#mikehuckabee', '#newtgingrich', '#oreillyfactor', '#greta', '#hannity', '#cltv', '#wikileaks', '#wikileaks10', '#assange', '#lockherup', '#women', '#christina_asling', '#trump', '#trump2016', '#religiousliberty', '#coachkennedy', '#imwithher', '#strongertogether', '#', '#donthecon', '#stoprush', '#nevertrump', '#unfitforoffice', '#tech', '#technology', '#trump', '#cdnpoli', '#bcpoli', '#tcot', '#p2', '#libtardlogic', '#trudeau', '#secretillegalcrowncourt', '#justice', '#trump', '#imbecile', '#giuliani', '#trump', '#trump', '#imwithher', '#hillary', '#wisconsinprimary', '#wisconsin', '#wisconsinpoll', '#hillarypoliticaltip', '#mkues65', '#trump', '#tatiana', '#wikirolled', '#presidentialdebate', '#misspiggy', '#trumptaxreturns', '#trump', '#vpdebate', '#imwithher', '#revolutionaryart', '#economy', '#financ', '#scotus', '#howdumbdoeshethinkwer', '#kimisanauthor37', '#mag', '#arizona', '#trumppence16', '#americafirst', '#maga', '#jobs', '#nc', '#ncpol', '#nevertrump', '#trump', '#publicspeaking', '#hillary', '#trump', '#truth', '#breaking', '#hillarynews', '#trumppence16', '#maga', '#octobersurprise', '#neverhillary', '#corruptfbi', '#msmfraud', '#liesmatte', '#uniteblue', '#getout', '#followthemoney', '#gop', '#buchanan', '#pjnet', '#ccot', '#tcot', '#trump', '#trade', '#wakeupamerica', '#trump2016', '#trumptrain', '#milit', '#streamys', '#video', '#cnn', '#ge', '#jackwelch', '\"#trumps\"', '#nevertrumper', '#tuesdaymotivation', '#trump', '#prescottvalley', '#az', '#pa', '#oh', '#nc', '#nh', '#co', '#nv', '#fl', '#hillaryhealth', '#trump', '#tax', '#trumptrain', '#trump2016', '#mika', '#debate', '#debatenight', '#trump', '#blacks4trump', '#politics', '#climatevoter', '#fashion', '#justice', '#opinion', '#octobersurprise', '#wikileaks10', '#trump', '#election2016', '#elections2', '#islam', '#terror', '#americafirst', '#', '#fillinthe', '#student', '#taxes', '#newtonma', '#voteblue', '#poll', '#tuesdaymotivation', '#wikileaks10', '#octobersurprise', '#nationaltacoday', '#clinton', '#tr', '#trump', '#ptsd', '#thesniffer', '#thestiffer', '#bonerbill', '#lyingbill', '#neverhillary', '#donaldtrump', '#taxes', '#secondamendment', '#donaldtrump', '#trump', '#usa', '#art', '#suaju', '#business', '#politicalhiphop', '#fdt', '#fucktrump', '#americafirst', '#tnplive', '#goodone', '#decentpeoplepaytaxes', '#votetr', '#leadership', '#vpdebate', '#fullrepeal', '#tuesdaymotivation', '#', '#strongertogether', '#vpdebate2016', '#vpdebate', '#trumptaxes', '#nevertrump', '#neverpence', '#condon', '#ap', '#news', '#us', '#rt', '#trump2016', '#trumptrain', '#trumppence16', '#wrh', '#trumptaxes', '#thebeatles', '#trumptaxreturns', '#donaldtrump', '#trump', '#newyorktimes', '#taxreturns', '#taxes', '#election2016', '#polls', '#makeamericagreatagai', '#monda', '#ymdlu', '#motivationmonday', '#vpdebate', '#world', '#news', '#trumptaxes', '#modiministry', '#govgaryjohnson', '#trump', '#hillary', '#vote', '#clintonchildrensbooks', '#demexit', '#bringbackbernie', '#tcot', '#lnyhbt', '#tgdn', '#maga', '#trump', '#trumppence2016', '#ohhillno', '#neverhillary', '#kellyannlies', '##worldsnookerchampionship', '#trumptrain', '#maga', '#americafirst', '\"#notrumps\"', '#genderwatch2016', '#hillarysarmy', '#imwithher', '#maga', '#nevertrump', '#stron', '#deplorables', '#wikileaks', '#octobersurprise', '#assange', '#forbes400', '#hillary', '#trump', '#make', '#billclinton', '#gop', '#trump', '#obamacare', '#imwithher', '#opdeny270', '#expectus', '#maga', '#steel', '#knowyourcandidates', '#jobs', '#assange', '#tr', '#snopes', '#hillary', '#russia', '#uranium', '#trump', '#putin', '#weneedbernie', '#booom', '#trumppen', '#mikepence', '#timkaine', '#vpdebate', '#shareblue', '#ghananews', '#ghana', '#obama', '#hillary', '#trump2016', '#tuesdaymotivation', '#christmas', '#itsinourhands', '#tcot', '#1u', '#p2', '#dontbelievethelies', '#youin', '#pwdsvote', '#trump', '#imwithyou', '#hillary', '#hurricanematthew', '#trump', '#globalwarminghoax', '#shecantstoplying', '#votetrump2016', '#mexicansfortrump', '#hillary', '#kremlin', '#trump', '#kardashians', '#dprksop', '#wakeupamerica', '#colbertlateshow', '#thumbdownhillary', '#mediabias', '#trump', '#comey', '#st', '#samanthabee', '#trump', '#', '#vpdeb', '#trump', '\"#americas\"', '#imwithher', '#p2', '#hairuhtic', '#castle2016', '#treknottrump', '#soulless', '#nationalpoetryday', '#videos', '#trump', '#clinton', '#tax', '#vpdebate', '#hanni', '#koch', '#nhpoli', '#th', '#crookeddonald', '#rncincle', '#', '#trump2016', '#trump', '#2a', '#p2', '#tcot', '#pjnet', '#maga', '#breaking', '#michigan', '#trump', '#pence', '#', '#maga', '#vpdebate', '#hannity', '#morningjoe', '#tcot', '#perspective', '#nev', '#democrat', '#trump', '#americans', '#michelleobama', '#hillaryclinton', '#islam', '#islamization', '#liberallogic', '#maga', '#trump', '#entrepreneur', '#asisabuja2016', '#turkey', '#trump', '#uselections2', '#cnbc', '#hacks', '#trump', '#trumppence16', '#family', '#maga', '#americafirst', '#childcare', '#iraq', '#trump', '#hillary', '#trump', '#2016elec', '#voteblue', '#nhpolitics', '#hillary-criminal', '#trump-successful', '#trum', '#media', '#hastalavista', '#hartford', '#stamford', '#bridgeport', '#usa', '#digital', '#trumpsbrownsh', '#fracking', '#trumpstaxes', '#dhs', '#ptsd', '#vets4trump', '#trump', '#morningjoe', '#trumpeffect', '#disabled', '#brexit', '#nationalpoetryday', '#nevertrump', '#pr', '#satire', '#dumptrump', '#nevertrump', '#playboyvideos', '#video', '#optrumpunfit', '#news', '#thenewyorktimes', '#polls', '#de', '#crookedhillary', '#weatherchannel', '#hurricanematthew', '#thursdaythoughts', '#hurricanematthew', '#nevertrump', '#tcot', '#lnyhbt', '#tgdn', '#maga', '#trump', '#trumppence2016', '#trumpwin', '#jillnothill', '#neverhillary', '#michaelmoore', '#trump', '#trump50percent', '#unbranded', '#lyingdon', '#lowsinpublshing', '#tcot', '#ccot', '#gop', '#maga', '#bluelivesmatter', '#thinblueline', '#tcot', '#trump', '#baghdadbob', '#daytonabeach', '#trump', '#scandal', '#clinton', '#trump', '#climate', '#energy', '#oilandgas', '#str', '#hillaryclinton', '#trump', '#november8th', '#mor', '#trump', '#trumptrain', '#lebronjames', '#hillaryclinton', '#trump', '#florida', '#markets', '#election', '#trump', '#obama', '#failed', '#maga', '#trump', '#michigan']\n"
     ]
    }
   ],
   "source": [
    "print(new_hash)"
   ]
  },
  {
   "cell_type": "code",
   "execution_count": 15,
   "metadata": {
    "collapsed": false
   },
   "outputs": [
    {
     "data": {
      "text/plain": [
       "[('#vpdebate', 352),\n",
       " ('#trump', 265),\n",
       " ('#hillary', 113),\n",
       " ('#maga', 79),\n",
       " ('#clinton', 69),\n",
       " ('#pence', 63),\n",
       " ('#kaine', 56),\n",
       " ('#imwithher', 42),\n",
       " ('#', 41),\n",
       " ('#neverhillary', 34),\n",
       " ('#tcot', 32),\n",
       " ('#trumppence16', 31),\n",
       " ('#nevertrump', 29),\n",
       " ('#debates', 26),\n",
       " ('#timkaine', 26),\n",
       " ('#mikepence', 26),\n",
       " ('#trump2016', 25),\n",
       " ('#crookedhillary', 24),\n",
       " ('#debates2016', 23),\n",
       " ('#trumptrain', 23)]"
      ]
     },
     "execution_count": 15,
     "metadata": {},
     "output_type": "execute_result"
    }
   ],
   "source": [
    "from nltk.probability import FreqDist\n",
    "fdist1 = FreqDist(new_hash)\n",
    "fdist1.most_common(20)"
   ]
  },
  {
   "cell_type": "code",
   "execution_count": 16,
   "metadata": {
    "collapsed": false
   },
   "outputs": [
    {
     "data": {
      "text/plain": [
       "1237"
      ]
     },
     "execution_count": 16,
     "metadata": {},
     "output_type": "execute_result"
    }
   ],
   "source": [
    "set1 = set(new_hash)\n",
    "result = list(set1)\n",
    "len(result)"
   ]
  },
  {
   "cell_type": "code",
   "execution_count": 17,
   "metadata": {
    "collapsed": true
   },
   "outputs": [],
   "source": [
    "tweet_count = []\n",
    "for idx, item in enumerate(dt['hash_tags']):\n",
    "    for x in [\"hillary\", \"clinton\", \"tim\", \"kaine\", \"pence\", \"donald\", \"trump\", \"america\", \"her\", \"maga\"]:\n",
    "        if x in item.lower():\n",
    "            tweet_count.append(idx)"
   ]
  },
  {
   "cell_type": "code",
   "execution_count": 18,
   "metadata": {
    "collapsed": false
   },
   "outputs": [
    {
     "data": {
      "text/plain": [
       "4025"
      ]
     },
     "execution_count": 18,
     "metadata": {},
     "output_type": "execute_result"
    }
   ],
   "source": [
    "set2 = set(tweet_count)\n",
    "result1 = list(set2)\n",
    "len(result1)"
   ]
  },
  {
   "cell_type": "code",
   "execution_count": 19,
   "metadata": {
    "collapsed": false
   },
   "outputs": [
    {
     "data": {
      "text/plain": [
       "\"RT @JohnFromCranber: REPORT: All 3 Clinton Called The Secret Service 'Pigs' https://t.co/PVR9rSwlc9 Appears #Hillary's The One With a 'Tempâ€¦\""
      ]
     },
     "execution_count": 19,
     "metadata": {},
     "output_type": "execute_result"
    }
   ],
   "source": [
    "dt['text'][8272]"
   ]
  },
  {
   "cell_type": "markdown",
   "metadata": {},
   "source": [
    "### Part of speech tagging for the tweets to understand usage of nouns, adjectives and adverbs"
   ]
  },
  {
   "cell_type": "code",
   "execution_count": 20,
   "metadata": {
    "collapsed": true
   },
   "outputs": [],
   "source": [
    "tw = pd.read_csv('tweets_harman.csv')"
   ]
  },
  {
   "cell_type": "code",
   "execution_count": 21,
   "metadata": {
    "collapsed": true
   },
   "outputs": [],
   "source": [
    "filt = tw[\"Winner\"].notnull()"
   ]
  },
  {
   "cell_type": "code",
   "execution_count": 22,
   "metadata": {
    "collapsed": true
   },
   "outputs": [],
   "source": [
    "filt_tw = tw[filt]"
   ]
  },
  {
   "cell_type": "code",
   "execution_count": 23,
   "metadata": {
    "collapsed": true
   },
   "outputs": [],
   "source": [
    "hilltw = filt_tw[filt_tw.Winner == 0.0]"
   ]
  },
  {
   "cell_type": "code",
   "execution_count": 24,
   "metadata": {
    "collapsed": true
   },
   "outputs": [],
   "source": [
    "trumptw = filt_tw[filt_tw.Winner == 1.0]"
   ]
  },
  {
   "cell_type": "code",
   "execution_count": 25,
   "metadata": {
    "collapsed": false
   },
   "outputs": [
    {
     "data": {
      "text/plain": [
       "232"
      ]
     },
     "execution_count": 25,
     "metadata": {},
     "output_type": "execute_result"
    }
   ],
   "source": [
    "len(trumptw['Tweet'])"
   ]
  },
  {
   "cell_type": "code",
   "execution_count": 26,
   "metadata": {
    "collapsed": false
   },
   "outputs": [
    {
     "data": {
      "text/plain": [
       "485"
      ]
     },
     "execution_count": 26,
     "metadata": {},
     "output_type": "execute_result"
    }
   ],
   "source": [
    "len(hilltw)"
   ]
  },
  {
   "cell_type": "markdown",
   "metadata": {},
   "source": [
    "#### Tagging tweets with our backoff tagger"
   ]
  },
  {
   "cell_type": "code",
   "execution_count": 27,
   "metadata": {
    "collapsed": true
   },
   "outputs": [],
   "source": [
    "tagged_tweet_hillary = []\n",
    "for item in hilltw['Tweet']:\n",
    "    tagged_tweet_hillary.append(Trained_Speech_Tagger(tknzr.tokenize(item),brown_tagger))\n",
    "    \n",
    "tagged_tweet_trump = []\n",
    "for item in trumptw['Tweet']:\n",
    "    tagged_tweet_trump.append(Trained_Speech_Tagger(tknzr.tokenize(item),brown_tagger))"
   ]
  },
  {
   "cell_type": "markdown",
   "metadata": {},
   "source": [
    "#### Compute the noun, adjective and verb count for tweets in the Hillary camp"
   ]
  },
  {
   "cell_type": "code",
   "execution_count": 28,
   "metadata": {
    "collapsed": false
   },
   "outputs": [
    {
     "name": "stdout",
     "output_type": "stream",
     "text": [
      "3072\n",
      "485\n",
      "6.334020618556701\n"
     ]
    }
   ],
   "source": [
    "hillary_nouns = 0\n",
    "for item in tagged_tweet_hillary:\n",
    "#     print (\"new tweet\")\n",
    "#     count = 0\n",
    "    for value in item:\n",
    "        if value[1].find(\"NN\") != -1:\n",
    "            #print(value)\n",
    "            #count = count + 1\n",
    "            hillary_nouns = hillary_nouns + 1\n",
    "    #print(count)\n",
    "    #hilnli.append(count)\n",
    "\n",
    "print(hillary_nouns)\n",
    "print(len(tagged_tweet_hillary))\n",
    "print(hillary_nouns/float(len(tagged_tweet_hillary)))\n",
    "#print(hilnli)"
   ]
  },
  {
   "cell_type": "code",
   "execution_count": 29,
   "metadata": {
    "collapsed": false
   },
   "outputs": [
    {
     "name": "stdout",
     "output_type": "stream",
     "text": [
      "337\n",
      "485\n",
      "0.6948453608247422\n"
     ]
    }
   ],
   "source": [
    "hillary_adj = 0\n",
    "for item in tagged_tweet_hillary:\n",
    "#     print (\"new tweet\")\n",
    "#     count = 0\n",
    "    for value in item:\n",
    "        if value[1].find(\"JJ\") != -1:\n",
    "            #print(value)\n",
    "            #count = count + 1\n",
    "            hillary_adj = hillary_adj + 1\n",
    "    #print(count)\n",
    "    #hilnli.append(count)\n",
    "\n",
    "print(hillary_adj)\n",
    "print(len(tagged_tweet_hillary))\n",
    "print(hillary_adj/float(len(tagged_tweet_hillary)))\n",
    "#print(hilnli)"
   ]
  },
  {
   "cell_type": "code",
   "execution_count": 30,
   "metadata": {
    "collapsed": false
   },
   "outputs": [
    {
     "name": "stdout",
     "output_type": "stream",
     "text": [
      "1046\n",
      "485\n",
      "2.156701030927835\n"
     ]
    }
   ],
   "source": [
    "hillary_vb = 0\n",
    "for item in tagged_tweet_hillary:\n",
    "#     print (\"new tweet\")\n",
    "#     count = 0\n",
    "    for value in item:\n",
    "        if value[1].find(\"VB\") != -1:\n",
    "            #print(value)\n",
    "            #count = count + 1\n",
    "            hillary_vb = hillary_vb + 1\n",
    "    #print(count)\n",
    "    #hilnli.append(count)\n",
    "\n",
    "print(hillary_vb)\n",
    "print(len(tagged_tweet_hillary))\n",
    "print(hillary_vb/float(len(tagged_tweet_hillary)))\n",
    "#print(hilnli)"
   ]
  },
  {
   "cell_type": "markdown",
   "metadata": {},
   "source": [
    "#### Compute the noun, adjective and verb count for tweets in the Trump camp"
   ]
  },
  {
   "cell_type": "code",
   "execution_count": 31,
   "metadata": {
    "collapsed": false
   },
   "outputs": [
    {
     "name": "stdout",
     "output_type": "stream",
     "text": [
      "421\n",
      "232\n",
      "1.8146551724137931\n"
     ]
    }
   ],
   "source": [
    "trump_vb = 0\n",
    "for item in tagged_tweet_trump:\n",
    "#     print (\"new tweet\")\n",
    "#     count = 0\n",
    "    for value in item:\n",
    "        if value[1].find(\"VB\") != -1:\n",
    "            #print(value)\n",
    "            #count = count + 1\n",
    "            trump_vb = trump_vb + 1\n",
    "    #print(count)\n",
    "    #hilnli.append(count)\n",
    "\n",
    "print(trump_vb)\n",
    "print(len(tagged_tweet_trump))\n",
    "print(trump_vb/float(len(tagged_tweet_trump)))"
   ]
  },
  {
   "cell_type": "code",
   "execution_count": 32,
   "metadata": {
    "collapsed": false
   },
   "outputs": [
    {
     "name": "stdout",
     "output_type": "stream",
     "text": [
      "172\n",
      "232\n",
      "0.7413793103448276\n"
     ]
    }
   ],
   "source": [
    "trump_aj = 0\n",
    "for item in tagged_tweet_trump:\n",
    "#     print (\"new tweet\")\n",
    "#     count = 0\n",
    "    for value in item:\n",
    "        if value[1].find(\"JJ\") != -1:\n",
    "            #print(value)\n",
    "            #count = count + 1\n",
    "            trump_aj = trump_aj + 1\n",
    "    #print(count)\n",
    "    #hilnli.append(count)\n",
    "\n",
    "print(trump_aj)\n",
    "print(len(tagged_tweet_trump))\n",
    "print(trump_aj/float(len(tagged_tweet_trump)))"
   ]
  },
  {
   "cell_type": "code",
   "execution_count": 33,
   "metadata": {
    "collapsed": false
   },
   "outputs": [
    {
     "name": "stdout",
     "output_type": "stream",
     "text": [
      "1383\n",
      "232\n",
      "5.961206896551724\n"
     ]
    }
   ],
   "source": [
    "trump_nn = 0\n",
    "for item in tagged_tweet_trump:\n",
    "#     print (\"new tweet\")\n",
    "#     count = 0\n",
    "    for value in item:\n",
    "        if value[1].find(\"NN\") != -1:\n",
    "            #print(value)\n",
    "            #count = count + 1\n",
    "            trump_nn = trump_nn + 1\n",
    "    #print(count)\n",
    "    #hilnli.append(count)\n",
    "\n",
    "print(trump_nn)\n",
    "print(len(tagged_tweet_trump))\n",
    "print(trump_nn/float(len(tagged_tweet_trump)))"
   ]
  },
  {
   "cell_type": "markdown",
   "metadata": {},
   "source": [
    "### A deep dive into the adjective list for Trump and Hillary"
   ]
  },
  {
   "cell_type": "code",
   "execution_count": 34,
   "metadata": {
    "collapsed": false
   },
   "outputs": [
    {
     "data": {
      "text/plain": [
       "[('American', 6),\n",
       " ('great', 5),\n",
       " ('wrong', 4),\n",
       " ('foreign', 4),\n",
       " ('good', 4),\n",
       " ('political', 4),\n",
       " ('such', 4),\n",
       " ('right', 4),\n",
       " ('deplorable', 4),\n",
       " ('own', 3),\n",
       " ('open', 3),\n",
       " ('better', 3),\n",
       " ('rude', 3),\n",
       " ('worse', 3),\n",
       " ('economic', 3),\n",
       " ('smart', 2),\n",
       " ('Muslim', 2),\n",
       " ('big', 2),\n",
       " ('entire', 2),\n",
       " ('inner', 2),\n",
       " ('Full', 2),\n",
       " ('hard', 2),\n",
       " ('real', 2),\n",
       " ('presidential', 2),\n",
       " ('Nuclear', 2)]"
      ]
     },
     "execution_count": 34,
     "metadata": {},
     "output_type": "execute_result"
    }
   ],
   "source": [
    "trump_adj_list = []\n",
    "for item in tagged_tweet_trump:\n",
    "#     print (\"new tweet\")\n",
    "#     count = 0\n",
    "    for value in item:\n",
    "        if value[1].find(\"JJ\") != -1:\n",
    "            trump_adj_list.append(value[0])\n",
    "            #count = count + 1\n",
    "            \n",
    "    #print(count)\n",
    "    #hilnli.append(count)\n",
    "\n",
    "#print(trump_vb_list)\n",
    "fdistta = FreqDist(trump_adj_list)\n",
    "fdistta.most_common(25)"
   ]
  },
  {
   "cell_type": "code",
   "execution_count": 35,
   "metadata": {
    "collapsed": false
   },
   "outputs": [
    {
     "data": {
      "text/plain": [
       "[('nuclear', 11),\n",
       " ('own', 10),\n",
       " ('bad', 9),\n",
       " ('good', 9),\n",
       " ('great', 7),\n",
       " ('wrong', 6),\n",
       " ('presidential', 6),\n",
       " ('false', 6),\n",
       " ('new', 6),\n",
       " ('public', 4),\n",
       " ('deplorable', 4),\n",
       " ('strong', 4),\n",
       " ('scary', 4),\n",
       " ('military', 3),\n",
       " ('New', 3),\n",
       " ('old', 3),\n",
       " ('Atlantic', 3),\n",
       " ('important', 3),\n",
       " ('political', 3),\n",
       " ('Latest', 3),\n",
       " ('economic', 3),\n",
       " ('crazy', 3),\n",
       " ('worst', 3),\n",
       " ('best', 3),\n",
       " ('smart', 3)]"
      ]
     },
     "execution_count": 35,
     "metadata": {},
     "output_type": "execute_result"
    }
   ],
   "source": [
    "hillary_adj_list = []\n",
    "for item in tagged_tweet_hillary:\n",
    "#     print (\"new tweet\")\n",
    "#     count = 0\n",
    "    for value in item:\n",
    "        if value[1].find(\"JJ\") != -1:\n",
    "            hillary_adj_list.append(value[0])\n",
    "            #count = count + 1\n",
    "            \n",
    "    #print(count)\n",
    "    #hilnli.append(count)\n",
    "\n",
    "#print(hillary_vb_list)\n",
    "fdistha = FreqDist(hillary_adj_list)\n",
    "fdistha.most_common(25)"
   ]
  },
  {
   "cell_type": "code",
   "execution_count": 36,
   "metadata": {
    "collapsed": false
   },
   "outputs": [
    {
     "name": "stdout",
     "output_type": "stream",
     "text": [
      "[('nuclear', 11), ('own', 10), ('bad', 9), ('good', 9), ('great', 7), ('wrong', 6), ('presidential', 6), ('false', 6), ('new', 6), ('public', 4), ('deplorable', 4), ('strong', 4), ('scary', 4), ('military', 3), ('New', 3), ('old', 3), ('Atlantic', 3), ('important', 3), ('political', 3), ('Latest', 3), ('economic', 3), ('crazy', 3), ('worst', 3), ('best', 3), ('smart', 3), ('profound', 3), ('open', 3), ('rich', 3), ('true', 3), ('perfect', 2), ('flat', 2), ('negative', 2), ('catastrophic', 2), ('criminal', 2), ('successful', 2)]\n",
      "\n",
      "[('American', 6), ('great', 5), ('wrong', 4), ('foreign', 4), ('good', 4), ('political', 4), ('such', 4), ('right', 4), ('deplorable', 4), ('own', 3), ('open', 3), ('better', 3), ('rude', 3), ('worse', 3), ('economic', 3), ('smart', 2), ('Muslim', 2), ('big', 2), ('entire', 2), ('inner', 2), ('Full', 2), ('hard', 2), ('real', 2), ('presidential', 2), ('Nuclear', 2), ('crooked', 2), ('true', 2), ('strong', 2), ('funny', 2), ('fair', 2), ('little', 2), ('nuclear', 2), ('clear', 2), ('weak', 2), ('stupid', 2)]\n"
     ]
    }
   ],
   "source": [
    "print(fdistha.most_common(35))\n",
    "print ()\n",
    "print(fdistta.most_common(35))"
   ]
  },
  {
   "cell_type": "code",
   "execution_count": 37,
   "metadata": {
    "collapsed": true
   },
   "outputs": [],
   "source": [
    "xt_h = set([word.lower() for word in trump_adj_list]) - set([word.lower() for word in hillary_adj_list])\n",
    "xh_t = set([word.lower() for word in hillary_adj_list]) - set([word.lower() for word in trump_adj_list])"
   ]
  },
  {
   "cell_type": "markdown",
   "metadata": {},
   "source": [
    "### Creating a unique set of adjectives for each camp to create our bag of words"
   ]
  },
  {
   "cell_type": "code",
   "execution_count": 38,
   "metadata": {
    "collapsed": false,
    "scrolled": true
   },
   "outputs": [
    {
     "name": "stdout",
     "output_type": "stream",
     "text": [
      "{'red', 'obvious', 'short', 'complete', 'intentional', 'full', 'blatant', 'magical', 'crooked', 'stronger', 'secret', 'bold', 'corrupt', 'valid', 'super', 'annoying', 'impeccable', 'friendly', 'free', 'due', 'fine', 'little', 'syrian', 'sick', 'entire', 'level', 'teenage', 'personal', 'coherent', 'downcast', 'safe', 'intelligent', 'rude', 'severe', 'challenging', 'disastrous', 'gay', 'comfortable', 'inner', 'shorter', 'arrogant', 'african', 'previous', 'democratic', 'worse', 'wont'}\n",
      "\n",
      "{'outrageous', 'tight', 'tough', 'effective', 'willing', 'entertaining', 'selfish', 'hardworking', 'live', 'nasty', 'responsible', 'chief', 'negative', 'clean', 'respectful', 'hot', 'unlikely', 'direct', 'giant', 'mean', 'accurate', 'insane', 'local', 'catastrophic', 'safer', 'criminal', 'financial', 'pure', 'successful', 'baffling', 'terrible', 'highest', 'horrible', 'predictable', 'small', 'fat', 'current', 'foolish', 'closer', 'international', 'ignorant', 'mad', 'harsh', 'ready', 'like', 'popular', 'latest', 'wicked', 'national', 'safest', 'religious', 'alternate', 'wide', 'crazy', 'inappropriate', 'cool', 'worst', 'south', 'consistent', 'shocking', 'loyal', 'sad', 'angry', 'happy', 'diverse', 'straight', 'capable', 'confident', 'handy', 'solid', 'federal', 'horrifying', 'repulsive', 'ridiculous', 'alive', 'net', 'bigoted', 'huge', 'serious', 'awful', 'unfamiliar', 'north', 'physical', 'different', 'leaky', 'effusive', 'weird', 'profound', 'smaller', 'offensive', 'senior', 'indefensible', 'modern', 'favorite', 'insulting', 'unimportant', 'chinese', 'unpredictable', 'unnatural', 'broad', 'general', 'possible', 'creative', 'lousy', 'civil', 'sure', 'large', 'divisive', 'editorial', 'logical', 'military', 'aware', 'hilarious', 'important', 'spiritual', 'then', 'plain', 'immoral', 'special', 'damn', 'spanish', 'likely', 'vast', 'decent', 'frequent', 'brilliant', 'unending', 'major', 'unaware', 'comprehensive', 'young', 'endless'}\n"
     ]
    }
   ],
   "source": [
    "print(xt_h)\n",
    "print()\n",
    "print(xh_t)"
   ]
  },
  {
   "cell_type": "code",
   "execution_count": null,
   "metadata": {
    "collapsed": true
   },
   "outputs": [],
   "source": []
  }
 ],
 "metadata": {
  "kernelspec": {
   "display_name": "Python 3",
   "language": "python",
   "name": "python3"
  },
  "language_info": {
   "codemirror_mode": {
    "name": "ipython",
    "version": 3
   },
   "file_extension": ".py",
   "mimetype": "text/x-python",
   "name": "python",
   "nbconvert_exporter": "python",
   "pygments_lexer": "ipython3",
   "version": "3.5.2"
  }
 },
 "nbformat": 4,
 "nbformat_minor": 1
}
